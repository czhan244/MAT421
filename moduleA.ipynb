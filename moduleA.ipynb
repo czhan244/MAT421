{
  "nbformat": 4,
  "nbformat_minor": 0,
  "metadata": {
    "colab": {
      "provenance": [],
      "authorship_tag": "ABX9TyNEOLRNhhGaankMPtnY7uo7",
      "include_colab_link": true
    },
    "kernelspec": {
      "name": "python3",
      "display_name": "Python 3"
    },
    "language_info": {
      "name": "python"
    }
  },
  "cells": [
    {
      "cell_type": "markdown",
      "metadata": {
        "id": "view-in-github",
        "colab_type": "text"
      },
      "source": [
        "<a href=\"https://colab.research.google.com/github/czhan244/MAT421/blob/main/moduleA.ipynb\" target=\"_parent\"><img src=\"https://colab.research.google.com/assets/colab-badge.svg\" alt=\"Open In Colab\"/></a>"
      ]
    },
    {
      "cell_type": "markdown",
      "source": [
        "# **Chapter 9. Representation of Numbers**\n",
        "9.1 Base-N and Binary \n",
        "  \n",
        "Normally we use decimal number base on 10 in our life like 10, 100. However, in computer language, we should change decimal number into binary number.\n",
        "\n",
        "In this section, we are learning on decimal and binary converting, each digit represents the coefficient for a power of 10."
      ],
      "metadata": {
        "id": "phfe4b7dYOyc"
      }
    },
    {
      "cell_type": "code",
      "source": [
        "# base 10\n",
        "91.2 == 9*(10**1)+1*(10**0)+2*(10**-1) # = 90 + 1 + 0.2 = 91.2 "
      ],
      "metadata": {
        "colab": {
          "base_uri": "https://localhost:8080/"
        },
        "id": "pgbeFiXwxc87",
        "outputId": "e78ac354-54b6-475c-abc8-c3a6b3d5e6f5"
      },
      "execution_count": 7,
      "outputs": [
        {
          "output_type": "execute_result",
          "data": {
            "text/plain": [
              "True"
            ]
          },
          "metadata": {},
          "execution_count": 7
        }
      ]
    },
    {
      "cell_type": "code",
      "source": [
        "# base 2 \n",
        "# 88 (base 10) = 64 + 16 + 8 = 1*2^6 + 0*2^5 + 1*2^4 + 1*2^3 + 0*2^2 + 0*2^1 + 0*2^0 = 1011000 (base 2)\n",
        "bin(88) # use bin to convert decimal number to binary number "
      ],
      "metadata": {
        "colab": {
          "base_uri": "https://localhost:8080/",
          "height": 35
        },
        "id": "jttCYZqHzZWi",
        "outputId": "9f5c7b38-7a97-45b0-ccdf-b67012547d6f"
      },
      "execution_count": 6,
      "outputs": [
        {
          "output_type": "execute_result",
          "data": {
            "text/plain": [
              "'0b1011000'"
            ],
            "application/vnd.google.colaboratory.intrinsic+json": {
              "type": "string"
            }
          },
          "metadata": {},
          "execution_count": 6
        }
      ]
    },
    {
      "cell_type": "code",
      "source": [
        "# Addition\n",
        "# 12 + 7 = 19\n",
        "# 19 (base 10) = 16 + 2 + 1 = 1*2^4 + 0*2^3 + 0*2^2 + 1*2^1 + 1*2^0 = 10011 (base 2)\n",
        "bin(12)\n",
        "bin(7)\n",
        "x = 0b1100 + 0b111\n",
        "print(x,\"=\",bin(x))\n"
      ],
      "metadata": {
        "colab": {
          "base_uri": "https://localhost:8080/"
        },
        "id": "p27gh5o32SfE",
        "outputId": "521b76e8-a0a1-4a67-d2f4-985e4f75a8f2"
      },
      "execution_count": 17,
      "outputs": [
        {
          "output_type": "stream",
          "name": "stdout",
          "text": [
            "19 = 0b10011\n"
          ]
        }
      ]
    },
    {
      "cell_type": "code",
      "source": [
        "# Multiplication\n",
        "# 12 * 7 = 84\n",
        "# 84 (base 10) = 64 + 16 + 4 = 1*2^6 + 0*2^5 + 1*2^4 + 0*2^3 + 1*2^2 + 0*2^1 + 0*2^0 = 1010100 (base 2)\n",
        "bin(12)\n",
        "bin(7)\n",
        "x = 0b1100 * 0b111\n",
        "print(x,\"=\",bin(x))"
      ],
      "metadata": {
        "colab": {
          "base_uri": "https://localhost:8080/"
        },
        "id": "rHpSWMXQ2owa",
        "outputId": "d03c26ac-d655-41d2-92ca-2ccc5f6b89cc"
      },
      "execution_count": 18,
      "outputs": [
        {
          "output_type": "stream",
          "name": "stdout",
          "text": [
            "84 = 0b1010100\n"
          ]
        }
      ]
    },
    {
      "cell_type": "markdown",
      "source": [
        "9.2 Floating Point Numbers\n",
        "\n",
        "In the floating point, we usually have 3 important sign indication:\n",
        "\n",
        "s: determien whether the number is positive or negative \n",
        "\n",
        "e: means the power of 2\n",
        "\n",
        "f: means the coefficient of the exponent"
      ],
      "metadata": {
        "id": "_9PIzkoh5Akf"
      }
    },
    {
      "cell_type": "code",
      "source": [
        "import sys\n",
        "sys.float_info\n"
      ],
      "metadata": {
        "colab": {
          "base_uri": "https://localhost:8080/"
        },
        "id": "61GTxWYg51lE",
        "outputId": "2f10ef4a-c315-4bf9-b173-3c56fc932456"
      },
      "execution_count": 19,
      "outputs": [
        {
          "output_type": "execute_result",
          "data": {
            "text/plain": [
              "sys.float_info(max=1.7976931348623157e+308, max_exp=1024, max_10_exp=308, min=2.2250738585072014e-308, min_exp=-1021, min_10_exp=-307, dig=15, mant_dig=53, epsilon=2.220446049250313e-16, radix=2, rounds=1)"
            ]
          },
          "metadata": {},
          "execution_count": 19
        }
      ]
    },
    {
      "cell_type": "markdown",
      "source": [
        "9.3 Round-off Errors"
      ],
      "metadata": {
        "id": "SCOju8qU5GVG"
      }
    }
  ]
}