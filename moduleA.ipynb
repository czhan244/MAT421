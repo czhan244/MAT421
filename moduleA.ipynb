{
  "nbformat": 4,
  "nbformat_minor": 0,
  "metadata": {
    "colab": {
      "provenance": [],
      "authorship_tag": "ABX9TyOzU+T72ZSgbZDLrVF2cUbb",
      "include_colab_link": true
    },
    "kernelspec": {
      "name": "python3",
      "display_name": "Python 3"
    },
    "language_info": {
      "name": "python"
    }
  },
  "cells": [
    {
      "cell_type": "markdown",
      "metadata": {
        "id": "view-in-github",
        "colab_type": "text"
      },
      "source": [
        "<a href=\"https://colab.research.google.com/github/czhan244/MAT421/blob/main/moduleA.ipynb\" target=\"_parent\"><img src=\"https://colab.research.google.com/assets/colab-badge.svg\" alt=\"Open In Colab\"/></a>"
      ]
    },
    {
      "cell_type": "markdown",
      "source": [
        "# **Chapter 9. Representation of Numbers**\n",
        "9.1 Base-N and Binary \n",
        "  \n",
        "Normally we use decimal number base on 10 in our life like 10, 100. However, in computer language, we should change decimal number into binary number.\n",
        "\n",
        "In this section, we are learning on decimal and binary converting, each digit represents the coefficient for a power of 10."
      ],
      "metadata": {
        "id": "phfe4b7dYOyc"
      }
    },
    {
      "cell_type": "code",
      "source": [
        "# base 10\n",
        "\n",
        "91.2 == 9*(10**1)+1*(10**0)+2*(10**-1) # = 90 + 1 + 0.2 = 91.2 "
      ],
      "metadata": {
        "colab": {
          "base_uri": "https://localhost:8080/"
        },
        "id": "pgbeFiXwxc87",
        "outputId": "e78ac354-54b6-475c-abc8-c3a6b3d5e6f5"
      },
      "execution_count": 7,
      "outputs": [
        {
          "output_type": "execute_result",
          "data": {
            "text/plain": [
              "True"
            ]
          },
          "metadata": {},
          "execution_count": 7
        }
      ]
    },
    {
      "cell_type": "code",
      "source": [
        "# base 2 \n",
        "# 88 (base 10) = 64 + 16 + 8 = 1*2^6 + 0*2^5 + 1*2^4 + 1*2^3 + 0*2^2 + 0*2^1 + 0*2^0 = 1011000 (base 2)\n",
        "bin(88)"
      ],
      "metadata": {
        "colab": {
          "base_uri": "https://localhost:8080/",
          "height": 35
        },
        "id": "jttCYZqHzZWi",
        "outputId": "9f5c7b38-7a97-45b0-ccdf-b67012547d6f"
      },
      "execution_count": 6,
      "outputs": [
        {
          "output_type": "execute_result",
          "data": {
            "text/plain": [
              "'0b1011000'"
            ],
            "application/vnd.google.colaboratory.intrinsic+json": {
              "type": "string"
            }
          },
          "metadata": {},
          "execution_count": 6
        }
      ]
    }
  ]
}