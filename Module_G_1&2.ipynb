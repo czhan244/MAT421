{
  "nbformat": 4,
  "nbformat_minor": 0,
  "metadata": {
    "colab": {
      "provenance": [],
      "authorship_tag": "ABX9TyODcGzHOQSoNXo9IIzkdS03",
      "include_colab_link": true
    },
    "kernelspec": {
      "name": "python3",
      "display_name": "Python 3"
    },
    "language_info": {
      "name": "python"
    }
  },
  "cells": [
    {
      "cell_type": "markdown",
      "metadata": {
        "id": "view-in-github",
        "colab_type": "text"
      },
      "source": [
        "<a href=\"https://colab.research.google.com/github/czhan244/MAT421/blob/main/Module_G_1%262.ipynb\" target=\"_parent\"><img src=\"https://colab.research.google.com/assets/colab-badge.svg\" alt=\"Open In Colab\"/></a>"
      ]
    },
    {
      "cell_type": "markdown",
      "source": [
        "# **Chapter 21 Numerical Differentiation**"
      ],
      "metadata": {
        "id": "CbAe_s3KZAxV"
      }
    },
    {
      "cell_type": "markdown",
      "source": [
        "**21.1 Numerical Integration Problem Statement**\n",
        "\n",
        "Interval - a range of numbers between two given values\n",
        "\n",
        "Subinterval - smaller range of numbers within a larger interval."
      ],
      "metadata": {
        "id": "qro8L5AlZXWf"
      }
    },
    {
      "cell_type": "code",
      "source": [
        "import matplotlib.pyplot as plt\n",
        "interval = [0, 5]\n",
        "subinterval = [2, 3]\n",
        "plt.plot(interval, [0, 0], linewidth=4, label='Interval')\n",
        "plt.plot(subinterval, [0, 0], linewidth=6, label='Subinterval')\n",
        "plt.xlabel('Number line')\n",
        "plt.legend()\n",
        "plt.show()"
      ],
      "metadata": {
        "colab": {
          "base_uri": "https://localhost:8080/",
          "height": 279
        },
        "id": "h8tBHgjBbWS5",
        "outputId": "eff7a984-27f1-4faf-82bf-051f6f1fd0ad"
      },
      "execution_count": 2,
      "outputs": [
        {
          "output_type": "display_data",
          "data": {
            "text/plain": [
              "<Figure size 432x288 with 1 Axes>"
            ],
            "image/png": "[encoded data removed]"
          },
          "metadata": {
            "needs_background": "light"
          }
        }
      ]
    },
    {
      "cell_type": "markdown",
      "source": [
        "***\n",
        "\n",
        "**21.2 Riemanns Integral**\n",
        "\n",
        "Riemann Integral - a method of approximating the area under a curve by dividing it into smaller rectangles and summing their areas.\n",
        "\n",
        "Left Riemann Sum approximates the area under the curve using the left endpoint of each subinterval, \n",
        "\n",
        "Right Riemann Sum uses the right endpoint, \n",
        "\n",
        "Midpoint Rule uses the midpoint of each subinterval."
      ],
      "metadata": {
        "id": "BPFDOpr0bfOJ"
      }
    },
    {
      "cell_type": "code",
      "source": [
        "import numpy as np\n",
        "\n",
        "def f(x):\n",
        "    return np.sin(x)\n",
        "    \n",
        "a = 0\n",
        "b = np.pi\n",
        "n = 100\n",
        "dx = (b - a) / n\n",
        "left_sum = sum(f(a + i*dx) for i in range(n))\n",
        "right_sum = sum(f(a + (i+1)*dx) for i in range(n))\n",
        "midpoint_sum = sum(f(a + (i+0.5)*dx) for i in range(n))\n",
        "left_integral = dx * left_sum\n",
        "right_integral = dx * right_sum\n",
        "midpoint_integral = dx * midpoint_sum\n",
        "print(\"Left Riemann Sum: \", left_integral)\n",
        "print(\"Right Riemann Sum: \", right_integral)\n",
        "print(\"Midpoint Rule: \", midpoint_integral)"
      ],
      "metadata": {
        "colab": {
          "base_uri": "https://localhost:8080/"
        },
        "id": "Sbccw2dhceoF",
        "outputId": "6eff7ec0-f527-46dc-eb83-4e69315c5008"
      },
      "execution_count": 8,
      "outputs": [
        {
          "output_type": "stream",
          "name": "stdout",
          "text": [
            "Left Riemann Sum:  1.9998355038874436\n",
            "Right Riemann Sum:  1.9998355038874436\n",
            "Midpoint Rule:  2.0000822490709864\n"
          ]
        }
      ]
    },
    {
      "cell_type": "markdown",
      "source": [
        "***\n",
        "\n",
        "**21.3 Trapezoid Rule**\n",
        "\n",
        "Trapezoid Rule - a numerical integration technique that approximates the area under a curve by dividing it into trapezoids and summing their areas. "
      ],
      "metadata": {
        "id": "tG9Vu6-BcyW2"
      }
    },
    {
      "cell_type": "code",
      "source": [
        "import numpy as np\n",
        "\n",
        "def f(x):\n",
        "    return np.sin(x)\n",
        "    \n",
        "a = 0\n",
        "b = np.pi\n",
        "n = 100\n",
        "h = (b - a) / n\n",
        "trapezoid_sum = (f(a) + f(b))/2\n",
        "for i in range(1, n):\n",
        "    trapezoid_sum += f(a + i*h)\n",
        "trapezoid_integral = h * trapezoid_sum\n",
        "print(\"Trapezoid Rule: \", trapezoid_integral)"
      ],
      "metadata": {
        "colab": {
          "base_uri": "https://localhost:8080/"
        },
        "id": "GvBOhHjTdbWI",
        "outputId": "7175c50a-a50e-431c-f5f0-eb25d24cbe05"
      },
      "execution_count": 9,
      "outputs": [
        {
          "output_type": "stream",
          "name": "stdout",
          "text": [
            "Trapezoid Rule:  1.9998355038874436\n"
          ]
        }
      ]
    },
    {
      "cell_type": "markdown",
      "source": [
        "***\n",
        "\n",
        "21.4 Simpson’s Rule"
      ],
      "metadata": {
        "id": "O1w3j5sedkOQ"
      }
    },
    {
      "cell_type": "markdown",
      "source": [
        "***\n",
        "\n",
        "21.5 Computing Integrals in Python"
      ],
      "metadata": {
        "id": "xPvsVM6wdmro"
      }
    }
  ]
}