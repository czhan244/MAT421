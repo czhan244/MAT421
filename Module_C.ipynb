{
  "nbformat": 4,
  "nbformat_minor": 0,
  "metadata": {
    "colab": {
      "provenance": [],
      "authorship_tag": "ABX9TyPw6EZr9fmV/Os8Y6WQLC/a",
      "include_colab_link": true
    },
    "kernelspec": {
      "name": "python3",
      "display_name": "Python 3"
    },
    "language_info": {
      "name": "python"
    }
  },
  "cells": [
    {
      "cell_type": "markdown",
      "metadata": {
        "id": "view-in-github",
        "colab_type": "text"
      },
      "source": [
        "<a href=\"https://colab.research.google.com/github/czhan244/MAT421/blob/main/Module_C.ipynb\" target=\"_parent\"><img src=\"https://colab.research.google.com/assets/colab-badge.svg\" alt=\"Open In Colab\"/></a>"
      ]
    },
    {
      "cell_type": "markdown",
      "source": [
        "# **CHARPTER 19 Root Finding**\n",
        "\n",
        "The roots of a function are one of its most important properties. Function to find roots:  $f(x)=ax^2+bx+c$\n",
        "$x_r=(−b±√(b^2−4ac))/√2a$\n"
      ],
      "metadata": {
        "id": "_gsjxuGJtBuR"
      }
    },
    {
      "cell_type": "markdown",
      "source": [
        "<hr>\n",
        "19.1 Root Finding Problem Statement \n",
        "\n",
        "Other than some easy rooting find function, some root are hard to find as shown in below. So, we have to use calculation code to find it."
      ],
      "metadata": {
        "id": "L6uSqkNFZVUK"
      }
    },
    {
      "cell_type": "code",
      "source": [
        "import numpy as np\n",
        "from scipy import optimize\n",
        "\n",
        "f = lambda x: np.sin(x) - x\n",
        "r = optimize.fsolve(f, -2)\n",
        "print(\"r =\", r)\n",
        "\n",
        "# Verify the solution is a root\n",
        "result = f(r)\n",
        "print(\"result=\", result)"
      ],
      "metadata": {
        "colab": {
          "base_uri": "https://localhost:8080/"
        },
        "id": "lZAXnBLkZbYo",
        "outputId": "5ecfeee5-be78-4ed2-c5bf-a65338e484bb"
      },
      "execution_count": 2,
      "outputs": [
        {
          "output_type": "stream",
          "name": "stdout",
          "text": [
            "r = [-2.0855224e-08]\n",
            "result= [0.]\n"
          ]
        }
      ]
    },
    {
      "cell_type": "markdown",
      "source": [
        "<hr>\n",
        "19.2 Tolerance\n",
        "\n",
        "Error in science and engineering is a departure from a calculated or expected value. The amount of mistake that is tolerable for an engineering application is referred to as tolerance. When a computer program discovers a solution with an error below the tolerance, we say that it has converged on that solution. When performing any type of numerical analysis, such as computing roots numerically, it's crucial to define an error measure and tolerance that work for the particular engineering or scientific application at hand."
      ],
      "metadata": {
        "id": "u6dCf15QZa-z"
      }
    },
    {
      "cell_type": "markdown",
      "source": [
        "<hr> \n",
        "19.3 Bisection Method\n",
        "\n",
        "The Intermediate Value Theorem says that if f(x) is a continuous function between a and b, and sign(f(a))≠sign(f(b)), then there must be a c, such that a<c<b and f(c)=0."
      ],
      "metadata": {
        "id": "aqmjjR9RZe16"
      }
    },
    {
      "cell_type": "code",
      "source": [
        "import numpy as np\n",
        "\n",
        "def my_bisection(f, a, b, tol): \n",
        "\n",
        "    # check if a and b bound a root\n",
        "    if np.sign(f(a)) == np.sign(f(b)):\n",
        "        raise Exception(\n",
        "         \"There are no roots between a and b\")\n",
        "        \n",
        "    # get midpoint\n",
        "    m = (a + b)/2\n",
        "    \n",
        "    if np.abs(f(m)) < tol:\n",
        "        return m\n",
        "    elif np.sign(f(a)) == np.sign(f(m)):\n",
        "        return my_bisection(f, m, b, tol)\n",
        "    elif np.sign(f(b)) == np.sign(f(m)):\n",
        "        return my_bisection(f, a, m, tol)\n",
        "\n",
        "f = lambda x: np.sin(x) - x\n",
        "my_bisection(f, -2, 2, 0.01)"
      ],
      "metadata": {
        "colab": {
          "base_uri": "https://localhost:8080/"
        },
        "id": "afAI-PsJdpy_",
        "outputId": "d52cc364-a276-468e-c767-12b0965f4001"
      },
      "execution_count": 4,
      "outputs": [
        {
          "output_type": "execute_result",
          "data": {
            "text/plain": [
              "0.0"
            ]
          },
          "metadata": {},
          "execution_count": 4
        }
      ]
    },
    {
      "cell_type": "markdown",
      "source": [
        "<hr>\n",
        "19.4 Newton-Raphson Method\n",
        "\n",
        "The Newton-Raphson Method of finding roots iterates Newton steps from $x_0$ until the error is less than the tolerance."
      ],
      "metadata": {
        "id": "FQsMucZIZhVc"
      }
    },
    {
      "cell_type": "code",
      "source": [
        "def my_newton(f, df, x0, tol):\n",
        "    \n",
        "    if abs(f(x0)) < tol:\n",
        "        return x0\n",
        "    else:\n",
        "        return my_newton(f, df, x0 - f(x0)/df(x0), tol)\n",
        "\n",
        "f = lambda x: x**2 -2\n",
        "f_prime = lambda x: 2 * x\n",
        "estimate = my_newton(f, f_prime, -2, 0.001)\n",
        "print(\"estimate =\", estimate)\n",
        "print(\"sqrt(2) =\", np.sqrt(2))"
      ],
      "metadata": {
        "colab": {
          "base_uri": "https://localhost:8080/"
        },
        "id": "CRrcl4SOivvu",
        "outputId": "35df1342-e468-43d2-ea4a-c9ab800ee589"
      },
      "execution_count": 6,
      "outputs": [
        {
          "output_type": "stream",
          "name": "stdout",
          "text": [
            "estimate = -1.4142156862745099\n",
            "sqrt(2) = 1.4142135623730951\n"
          ]
        }
      ]
    },
    {
      "cell_type": "markdown",
      "source": [
        "<hr> \n",
        "\n",
        "\n",
        "19.5 Root Finding in Python\n",
        "\n",
        "Use python to find root quicker"
      ],
      "metadata": {
        "id": "h6CXLgoRZtkv"
      }
    },
    {
      "cell_type": "code",
      "source": [
        "from scipy.optimize import fsolve\n",
        "f = lambda x: x**3-121*x**2-x+10086\n",
        "\n",
        "fsolve(f, [2, 80])"
      ],
      "metadata": {
        "colab": {
          "base_uri": "https://localhost:8080/"
        },
        "id": "4w2QEjmGkEmT",
        "outputId": "87bc7319-8ec4-481d-a59e-7eec3175a84c"
      },
      "execution_count": 9,
      "outputs": [
        {
          "output_type": "execute_result",
          "data": {
            "text/plain": [
              "array([ 9.50624642, 81.67727631])"
            ]
          },
          "metadata": {},
          "execution_count": 9
        }
      ]
    }
  ]
}