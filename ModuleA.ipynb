{
  "nbformat": 4,
  "nbformat_minor": 0,
  "metadata": {
    "colab": {
      "provenance": [],
      "authorship_tag": "ABX9TyMBlUM+SzYQKjcaxMSKLhAq",
      "include_colab_link": true
    },
    "kernelspec": {
      "name": "python3",
      "display_name": "Python 3"
    },
    "language_info": {
      "name": "python"
    }
  },
  "cells": [
    {
      "cell_type": "markdown",
      "metadata": {
        "id": "view-in-github",
        "colab_type": "text"
      },
      "source": [
        "<a href=\"https://colab.research.google.com/github/czhan244/MAT421/blob/main/moduleA.ipynb\" target=\"_parent\"><img src=\"https://colab.research.google.com/assets/colab-badge.svg\" alt=\"Open In Colab\"/></a>"
      ]
    },
    {
      "cell_type": "markdown",
      "source": [
        "# **Chapter 9. Representation of Numbers**\n",
        "9.1 Base-N and Binary \n",
        "  \n",
        "Normally we use decimal number base on 10 in our life like 10, 100. However, in computer language, we should change decimal number into binary number.\n",
        "\n",
        "In this section, we are learning on decimal and binary converting, each digit represents the coefficient for a power of 10."
      ],
      "metadata": {
        "id": "phfe4b7dYOyc"
      }
    },
    {
      "cell_type": "code",
      "source": [
        "# base 10\n",
        "91.2 == 9*(10**1)+1*(10**0)+2*(10**-1) # = 90 + 1 + 0.2 = 91.2 "
      ],
      "metadata": {
        "colab": {
          "base_uri": "https://localhost:8080/"
        },
        "id": "pgbeFiXwxc87",
        "outputId": "e78ac354-54b6-475c-abc8-c3a6b3d5e6f5"
      },
      "execution_count": 7,
      "outputs": [
        {
          "output_type": "execute_result",
          "data": {
            "text/plain": [
              "True"
            ]
          },
          "metadata": {},
          "execution_count": 7
        }
      ]
    },
    {
      "cell_type": "code",
      "source": [
        "# base 2 \n",
        "# 88 (base 10) = 64 + 16 + 8 = 1*2^6 + 0*2^5 + 1*2^4 + 1*2^3 + 0*2^2 + 0*2^1 + 0*2^0 = 1011000 (base 2)\n",
        "bin(88) # use bin to convert decimal number to binary number "
      ],
      "metadata": {
        "colab": {
          "base_uri": "https://localhost:8080/",
          "height": 35
        },
        "id": "jttCYZqHzZWi",
        "outputId": "9f5c7b38-7a97-45b0-ccdf-b67012547d6f"
      },
      "execution_count": 6,
      "outputs": [
        {
          "output_type": "execute_result",
          "data": {
            "text/plain": [
              "'0b1011000'"
            ],
            "application/vnd.google.colaboratory.intrinsic+json": {
              "type": "string"
            }
          },
          "metadata": {},
          "execution_count": 6
        }
      ]
    },
    {
      "cell_type": "code",
      "source": [
        "# Addition\n",
        "# 12 + 7 = 19\n",
        "# 19 (base 10) = 16 + 2 + 1 = 1*2^4 + 0*2^3 + 0*2^2 + 1*2^1 + 1*2^0 = 10011 (base 2)\n",
        "bin(12)\n",
        "bin(7)\n",
        "x = 0b1100 + 0b111\n",
        "print(x,\"=\",bin(x))\n"
      ],
      "metadata": {
        "colab": {
          "base_uri": "https://localhost:8080/"
        },
        "id": "p27gh5o32SfE",
        "outputId": "521b76e8-a0a1-4a67-d2f4-985e4f75a8f2"
      },
      "execution_count": 17,
      "outputs": [
        {
          "output_type": "stream",
          "name": "stdout",
          "text": [
            "19 = 0b10011\n"
          ]
        }
      ]
    },
    {
      "cell_type": "code",
      "source": [
        "# Multiplication\n",
        "# 12 * 7 = 84\n",
        "# 84 (base 10) = 64 + 16 + 4 = 1*2^6 + 0*2^5 + 1*2^4 + 0*2^3 + 1*2^2 + 0*2^1 + 0*2^0 = 1010100 (base 2)\n",
        "bin(12)\n",
        "bin(7)\n",
        "x = 0b1100 * 0b111\n",
        "print(x,\"=\",bin(x))"
      ],
      "metadata": {
        "colab": {
          "base_uri": "https://localhost:8080/"
        },
        "id": "rHpSWMXQ2owa",
        "outputId": "d03c26ac-d655-41d2-92ca-2ccc5f6b89cc"
      },
      "execution_count": 18,
      "outputs": [
        {
          "output_type": "stream",
          "name": "stdout",
          "text": [
            "84 = 0b1010100\n"
          ]
        }
      ]
    },
    {
      "cell_type": "markdown",
      "source": [
        "<hr>\n",
        "\n",
        "9.2 Floating Point Numbers\n",
        "\n",
        "Floating point usually have 3 important sign indication:\n",
        "\n",
        "s: determien whether the number is positive or negative \n",
        "\n",
        "e: means the power of 2\n",
        "\n",
        "f: means the coefficient of the exponent\n",
        "\n",
        "Floatign point have total 64 bits, 1 bit to sign indicator, 11 bits allocated to the exponent, and 52 bits are allocated to the fraction."
      ],
      "metadata": {
        "id": "_9PIzkoh5Akf"
      }
    },
    {
      "cell_type": "code",
      "source": [
        "#shows the floating information \n",
        "import sys\n",
        "sys.float_info"
      ],
      "metadata": {
        "colab": {
          "base_uri": "https://localhost:8080/"
        },
        "id": "61GTxWYg51lE",
        "outputId": "efd163a8-c076-4efd-c865-e944c26cc960"
      },
      "execution_count": 20,
      "outputs": [
        {
          "output_type": "execute_result",
          "data": {
            "text/plain": [
              "sys.float_info(max=1.7976931348623157e+308, max_exp=1024, max_10_exp=308, min=2.2250738585072014e-308, min_exp=-1021, min_10_exp=-307, dig=15, mant_dig=53, epsilon=2.220446049250313e-16, radix=2, rounds=1)"
            ]
          },
          "metadata": {},
          "execution_count": 20
        }
      ]
    },
    {
      "cell_type": "code",
      "source": [
        "#maximun floating point number can get\n",
        "sys.float_info.max"
      ],
      "metadata": {
        "colab": {
          "base_uri": "https://localhost:8080/"
        },
        "id": "lII0Lh_pCKma",
        "outputId": "5c62e0c5-7962-4d9a-af7f-544c3ad547a9"
      },
      "execution_count": 36,
      "outputs": [
        {
          "output_type": "execute_result",
          "data": {
            "text/plain": [
              "1.7976931348623157e+308"
            ]
          },
          "metadata": {},
          "execution_count": 36
        }
      ]
    },
    {
      "cell_type": "code",
      "source": [
        "1.79e308"
      ],
      "metadata": {
        "colab": {
          "base_uri": "https://localhost:8080/"
        },
        "id": "RFh4TBiLBgSl",
        "outputId": "f91da0c6-57d4-4960-ec4c-a90bda464e22"
      },
      "execution_count": 34,
      "outputs": [
        {
          "output_type": "execute_result",
          "data": {
            "text/plain": [
              "1.79e+308"
            ]
          },
          "metadata": {},
          "execution_count": 34
        }
      ]
    },
    {
      "cell_type": "code",
      "source": [
        "#bigger than 1.8^308 will result in \"inf\"\n",
        "1.8e308"
      ],
      "metadata": {
        "colab": {
          "base_uri": "https://localhost:8080/"
        },
        "id": "u7OTyhgLBbto",
        "outputId": "69e27af0-d445-4c05-8bbc-5a02a351075f"
      },
      "execution_count": 35,
      "outputs": [
        {
          "output_type": "execute_result",
          "data": {
            "text/plain": [
              "inf"
            ]
          },
          "metadata": {},
          "execution_count": 35
        }
      ]
    },
    {
      "cell_type": "code",
      "source": [
        "#minimun floating point number\n",
        "sys.float_info.min"
      ],
      "metadata": {
        "colab": {
          "base_uri": "https://localhost:8080/"
        },
        "id": "1JoRbEzoC5RB",
        "outputId": "5f6dd6aa-3a7c-41d6-82d8-7f10f246edcb"
      },
      "execution_count": 37,
      "outputs": [
        {
          "output_type": "execute_result",
          "data": {
            "text/plain": [
              "2.2250738585072014e-308"
            ]
          },
          "metadata": {},
          "execution_count": 37
        }
      ]
    },
    {
      "cell_type": "code",
      "source": [
        "2.23e-309"
      ],
      "metadata": {
        "colab": {
          "base_uri": "https://localhost:8080/"
        },
        "id": "EmC5uLNbC_og",
        "outputId": "bc910365-401b-450b-bfab-00b68982fb3d"
      },
      "execution_count": 45,
      "outputs": [
        {
          "output_type": "execute_result",
          "data": {
            "text/plain": [
              "2.23e-309"
            ]
          },
          "metadata": {},
          "execution_count": 45
        }
      ]
    },
    {
      "cell_type": "code",
      "source": [
        "import numpy as np\n",
        "np.spacing(2e3)"
      ],
      "metadata": {
        "colab": {
          "base_uri": "https://localhost:8080/"
        },
        "id": "G8dR8gNy9dmu",
        "outputId": "964d7ffc-9111-4890-a557-6919cdfe3ef4"
      },
      "execution_count": 30,
      "outputs": [
        {
          "output_type": "execute_result",
          "data": {
            "text/plain": [
              "2.2737367544323206e-13"
            ]
          },
          "metadata": {},
          "execution_count": 30
        }
      ]
    },
    {
      "cell_type": "code",
      "source": [
        "2e3 == (2e3 + np.spacing(2e3/3))\n",
        "#verified that add 2e3 is less than half the gap at 2e3 results "
      ],
      "metadata": {
        "colab": {
          "base_uri": "https://localhost:8080/"
        },
        "id": "ujlqEhGo_mmz",
        "outputId": "2fed1ad4-34e3-47b9-e85b-e689fffc31f3"
      },
      "execution_count": 31,
      "outputs": [
        {
          "output_type": "execute_result",
          "data": {
            "text/plain": [
              "True"
            ]
          },
          "metadata": {},
          "execution_count": 31
        }
      ]
    },
    {
      "cell_type": "markdown",
      "source": [
        "<hr>\n",
        "\n",
        "\n",
        "9.3 Round-off Errors\n",
        "\n",
        "the defference between the approximation of a number and it result in correct value when you used in computatiom is Round-off Errors"
      ],
      "metadata": {
        "id": "SCOju8qU5GVG"
      }
    },
    {
      "cell_type": "code",
      "source": [
        "2.45-1.78\n",
        "#as the result in below it is not = 0.67"
      ],
      "metadata": {
        "colab": {
          "base_uri": "https://localhost:8080/"
        },
        "id": "m89Zw1AUEUA3",
        "outputId": "c6452edb-6bbc-4797-9707-7d1d9852d54e"
      },
      "execution_count": 46,
      "outputs": [
        {
          "output_type": "execute_result",
          "data": {
            "text/plain": [
              "0.6700000000000002"
            ]
          },
          "metadata": {},
          "execution_count": 46
        }
      ]
    },
    {
      "cell_type": "code",
      "source": [
        "2.45-1.78 == 0.67\n",
        "#it will result in false"
      ],
      "metadata": {
        "colab": {
          "base_uri": "https://localhost:8080/"
        },
        "id": "ZgQP1-R9EigP",
        "outputId": "d62c163a-0377-4a7c-a78c-54a54ae3d974"
      },
      "execution_count": 47,
      "outputs": [
        {
          "output_type": "execute_result",
          "data": {
            "text/plain": [
              "False"
            ]
          },
          "metadata": {},
          "execution_count": 47
        }
      ]
    },
    {
      "cell_type": "code",
      "source": [
        "round(2.45-1.78,2) == round(0.67,2)\n",
        "#now it result true when you control it by the floating point for 2 decimal "
      ],
      "metadata": {
        "colab": {
          "base_uri": "https://localhost:8080/"
        },
        "id": "OHKR8X4XEsuy",
        "outputId": "4835517b-2295-40b0-c20e-03e9e42f8586"
      },
      "execution_count": 48,
      "outputs": [
        {
          "output_type": "execute_result",
          "data": {
            "text/plain": [
              "True"
            ]
          },
          "metadata": {},
          "execution_count": 48
        }
      ]
    },
    {
      "cell_type": "code",
      "source": [
        "#if we only do it once, it will be correct\n",
        "2+1/3-1/3"
      ],
      "metadata": {
        "colab": {
          "base_uri": "https://localhost:8080/"
        },
        "id": "5q9ZnnkNJSLb",
        "outputId": "e1e47435-3360-4590-ae70-37a4f1bd5887"
      },
      "execution_count": 59,
      "outputs": [
        {
          "output_type": "execute_result",
          "data": {
            "text/plain": [
              "2.0"
            ]
          },
          "metadata": {},
          "execution_count": 59
        }
      ]
    },
    {
      "cell_type": "code",
      "source": [
        "#however if we do it many times\n",
        "def add_and_subtract(iterations):\n",
        "    result = 2\n",
        "    \n",
        "    for i in range(iterations):\n",
        "        result += 1/3\n",
        "\n",
        "    for i in range(iterations):\n",
        "        result -= 1/3\n",
        "    return result\n"
      ],
      "metadata": {
        "id": "xAUcmnxxJrC7"
      },
      "execution_count": 62,
      "outputs": []
    },
    {
      "cell_type": "code",
      "source": [
        "#but if we did 1000 times \n",
        "add_and_subtract(1000)"
      ],
      "metadata": {
        "colab": {
          "base_uri": "https://localhost:8080/"
        },
        "id": "35iHfruVJ82H",
        "outputId": "7bd9e716-60fe-4bc8-ada5-fed7957e796d"
      },
      "execution_count": 66,
      "outputs": [
        {
          "output_type": "execute_result",
          "data": {
            "text/plain": [
              "2.000000000000006"
            ]
          },
          "metadata": {},
          "execution_count": 66
        }
      ]
    }
  ]
}
