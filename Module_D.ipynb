{
  "nbformat": 4,
  "nbformat_minor": 0,
  "metadata": {
    "colab": {
      "provenance": [],
      "authorship_tag": "ABX9TyN/Nq0qRxEsfLdmw02AgXxn",
      "include_colab_link": true
    },
    "kernelspec": {
      "name": "python3",
      "display_name": "Python 3"
    },
    "language_info": {
      "name": "python"
    }
  },
  "cells": [
    {
      "cell_type": "markdown",
      "metadata": {
        "id": "view-in-github",
        "colab_type": "text"
      },
      "source": [
        "<a href=\"https://colab.research.google.com/github/czhan244/MAT421/blob/main/Module_D.ipynb\" target=\"_parent\"><img src=\"https://colab.research.google.com/assets/colab-badge.svg\" alt=\"Open In Colab\"/></a>"
      ]
    },
    {
      "cell_type": "markdown",
      "source": [
        "# **Chapter 1 Linear Algebra**"
      ],
      "metadata": {
        "id": "ecq8A8JXkmas"
      }
    },
    {
      "cell_type": "markdown",
      "source": [
        "<hr>\n",
        "\n",
        "# 1.1 Introduction\n",
        "\n",
        "The study of linear equations and how they appear in vector spaces is the focus of the mathematical discipline known as linear algebra. It gives a methodical approach to dealing with linear connections between variables and is a potent instrument for studying and resolving a variety of mathematical issues, including eigenvalue and eigenvector problems, systems of linear equations, and matrix factorizations."
      ],
      "metadata": {
        "id": "FZ7ZvL7DkfPd"
      }
    },
    {
      "cell_type": "markdown",
      "source": [
        "<hr>\n",
        "\n",
        "## 1.2 Elements of Linear Algebra\n",
        "\n",
        "**1.2.1 Linear Spcaes**\n",
        "\n",
        "1.2.1.1 Linear Combinations\n",
        "\n",
        "Defination: A new vector is created from a subset in linear algebra by multiplying each vector by a constant and then adding the results. The outcome of linear combination is a linear subspace.\n",
        "***\n",
        "Linear subspace-- \n",
        "A linear subspace of V is a subset U ⊆ V\n",
        "that is closed under vector addition and scalar multiplication. For all u1,u2 ∈ U and α∈ R, it holds that:\n",
        "\n",
        "u1 + u2 ∈ U, and α u1 ∈ U.\n",
        "\n",
        "0 is always in a linear subspace. A span of a set of vectors is a\n",
        "linear subspace.\n",
        "\n",
        "Span --\n",
        "Let $w_1,...,w_m ∈ V$. The span of ${w_1,...,w_m}$, denoted span $(w_1,...,w_m)$, is the set of all linear combinations of the $w_j$’s. \n",
        "\n",
        "$span(w_1,...,w_m)={ (m∑j=1)  α_j w_j : α_1,...,α_m ∈ R}.$\n",
        "\n",
        "Lemma --\n",
        "Every Span is a Linear Subspace:\n",
        "\n",
        "Let W = span($w_1,...,w_m$). Then W is a linear subspace.\n",
        "***\n",
        "1.2.1.2 Linear Independence and Dimension\n",
        "\n",
        "Linear Independence -- A list of vectors $u_1,...,u_m$ is linearly independent if none of them can be written as a linear combination of the others,\n",
        "$∀_i,u_i /∈ span({u_j:j ̸=i}).$\n",
        "\n",
        "Dimension Theorem -- Let U be a linear subspace of V . There are always the same number of components in any foundation of U. The length, or number of elements, of each base of U is the same. We call this number the dimension of U and denote it dim(U)."
      ],
      "metadata": {
        "id": "GWHjh-JfkfSQ"
      }
    },
    {
      "cell_type": "code",
      "source": [
        "import numpy as np\n",
        "a = np.random.randn(2,3)\n",
        "a"
      ],
      "metadata": {
        "colab": {
          "base_uri": "https://localhost:8080/"
        },
        "id": "z8mttuNsyBtM",
        "outputId": "ded10cc0-b1bc-4556-c971-e937a9fe96bb"
      },
      "execution_count": 5,
      "outputs": [
        {
          "output_type": "execute_result",
          "data": {
            "text/plain": [
              "array([[ 1.16505341,  0.72261878,  1.51843012],\n",
              "       [ 0.76815317, -0.64883109,  0.65590155]])"
            ]
          },
          "metadata": {},
          "execution_count": 5
        }
      ]
    },
    {
      "cell_type": "code",
      "source": [
        "a.T"
      ],
      "metadata": {
        "colab": {
          "base_uri": "https://localhost:8080/"
        },
        "id": "UpcvDwW6yd-I",
        "outputId": "d0e63735-07b6-485d-e933-7d66c16cdbfa"
      },
      "execution_count": 6,
      "outputs": [
        {
          "output_type": "execute_result",
          "data": {
            "text/plain": [
              "array([[ 1.16505341,  0.76815317],\n",
              "       [ 0.72261878, -0.64883109],\n",
              "       [ 1.51843012,  0.65590155]])"
            ]
          },
          "metadata": {},
          "execution_count": 6
        }
      ]
    },
    {
      "cell_type": "code",
      "source": [
        "b = np.random.randn(3,2)\n",
        "b"
      ],
      "metadata": {
        "colab": {
          "base_uri": "https://localhost:8080/"
        },
        "id": "AfnN5iv2yk3s",
        "outputId": "ace02a00-688a-4472-86d2-1ca1899907f2"
      },
      "execution_count": 7,
      "outputs": [
        {
          "output_type": "execute_result",
          "data": {
            "text/plain": [
              "array([[-1.30094351,  1.14240352],\n",
              "       [ 0.34930322, -0.93582731],\n",
              "       [ 0.70261802,  0.79265901]])"
            ]
          },
          "metadata": {},
          "execution_count": 7
        }
      ]
    },
    {
      "cell_type": "code",
      "source": [
        "a @ b"
      ],
      "metadata": {
        "colab": {
          "base_uri": "https://localhost:8080/"
        },
        "id": "08k0snQ8yrMl",
        "outputId": "ca9cea78-99c8-47e2-f9df-a45b4589eed7"
      },
      "execution_count": 8,
      "outputs": [
        {
          "output_type": "execute_result",
          "data": {
            "text/plain": [
              "array([[-0.19637925,  1.85831204],\n",
              "       [-0.76511441,  2.004641  ]])"
            ]
          },
          "metadata": {},
          "execution_count": 8
        }
      ]
    },
    {
      "cell_type": "markdown",
      "source": [
        "**1.2.2 Orthogonality**\n",
        "\n",
        "1.2.2.1 Orthonomal Bases\n",
        "\n",
        "Norm and Inner Product -- ⟨u,v⟩ =u·v =n∑i $u_iv_i$ and ∥u∥ =√n∑1 $u^2_i$.\n",
        "\n",
        "Orthonormal -- A list of vectors {$u_1,...,u_m$} is orthonormal if the ui’s are pairwise orthogonal and each has norm 1, that is for all i and all j ̸=i,\n",
        " ⟨$u_i,u_j$⟩ =0, and ∥$u_i$∥ =1.\n",
        "\n",
        "Orthonormal Basis Expansion -- Let $q_1,...,q_m$ be an orthonormal basis of U and let u ∈ U. \n",
        "u =m ∑ j=1 $⟨u,q_j⟩q_j$ ."
      ],
      "metadata": {
        "id": "h4jYdfSN0KT1"
      }
    },
    {
      "cell_type": "code",
      "source": [
        "import numpy as np\n",
        "import matplotlib.pyplot as plt\n",
        "\n",
        "def draw_orthogonality_diagram(u, v):\n",
        "\n",
        "    u = np.array(u)\n",
        "    v = np.array(v)\n",
        "    origin = [0], [0]\n",
        "    plt.plot(u,v) \n",
        "    plt.xlim(-6, 6)\n",
        "    plt.ylim(-6, 6)\n",
        "    plt.axhline(0, color='black', lw=0.5)\n",
        "    plt.axvline(0, color='black', lw=0.5)\n",
        "    plt.show()\n",
        "\n",
        "u = [3, 0]\n",
        "v = [0, 4]\n",
        "draw_orthogonality_diagram(u, v)\n"
      ],
      "metadata": {
        "colab": {
          "base_uri": "https://localhost:8080/",
          "height": 269
        },
        "id": "L_7pq4Rc5piK",
        "outputId": "3b7eee4f-2172-4517-83a2-576627dba636"
      },
      "execution_count": 21,
      "outputs": [
        {
          "output_type": "display_data",
          "data": {
            "text/plain": [
              "<Figure size 432x288 with 1 Axes>"
            ],
            "image/png": "[encoded data removed]"
          },
          "metadata": {
            "needs_background": "light"
          }
        }
      ]
    },
    {
      "cell_type": "code",
      "source": [
        "import numpy as np\n",
        "import matplotlib.pyplot as plt\n",
        "from mpl_toolkits.mplot3d import Axes3D\n",
        "\n",
        "def draw_orthogonality_diagram_3d(u, v, w):\n",
        "    u = np.array(u)\n",
        "    v = np.array(v)\n",
        "    w = np.array(w)\n",
        "    origin = [0], [0], [0]\n",
        "    fig = plt.figure()\n",
        "    ax = fig.add_subplot(111, projection='3d')\n",
        "    ax.quiver(*origin, u, v, w, length=4, color=['red', 'green', 'blue'])\n",
        "    ax.set_xlim(-6, 6)\n",
        "    ax.set_ylim(-6, 6)\n",
        "    ax.set_zlim(-6, 6)\n",
        "    ax.set_xlabel('X axis')\n",
        "    ax.set_ylabel('Y axis')\n",
        "    ax.set_zlabel('Z axis')\n",
        "    plt.show()\n",
        "\n",
        "u = [3, 0, 0]\n",
        "v = [0, 4, 0]\n",
        "w = [0, 0, 5]\n",
        "draw_orthogonality_diagram_3d(u, v, w)\n"
      ],
      "metadata": {
        "colab": {
          "base_uri": "https://localhost:8080/",
          "height": 248
        },
        "id": "cTgNW3HW8IJe",
        "outputId": "322b627a-3cfb-4b0a-b746-25544c42fe5f"
      },
      "execution_count": 28,
      "outputs": [
        {
          "output_type": "display_data",
          "data": {
            "text/plain": [
              "<Figure size 432x288 with 1 Axes>"
            ],
            "image/png": "[encoded data removed]"
          },
          "metadata": {
            "needs_background": "light"
          }
        }
      ]
    },
    {
      "cell_type": "markdown",
      "source": [
        "**1.2.3 Gram-Schmidt Process**\n",
        "\n",
        "The Gram-Schmidt algorithm is used to obtain an orthonormal basis. Let a1,...,am be linearly independent. We intend to find an orthonormal basis of\n",
        "span(a1,...,am). The process takes advantage of the properties of the orthogonal projection derived above. "
      ],
      "metadata": {
        "id": "asUTt5uF04Up"
      }
    },
    {
      "cell_type": "markdown",
      "source": [
        "1.2.4 Eigenvalues and Eigenvectors\n",
        "\n",
        "Eigenvalues and eigenvectors -- Let A ∈ $R^{d×d}$ be a square matrix. Then λ∈ R is an eigenvalue of A if there exists a nonzero vector x ̸= 0, such that Ax =λx."
      ],
      "metadata": {
        "id": "XsnkrPHK08rM"
      }
    },
    {
      "cell_type": "code",
      "source": [
        "import numpy as np\n",
        "\n",
        "def find_eigenvalues_and_eigenvectors(A):\n",
        "    eigenvalues, eigenvectors = np.linalg.eig(A)\n",
        "    return eigenvalues, eigenvectors\n",
        "\n",
        "A = np.array([[4, 2], [1, 2]])\n",
        "eigenvalues, eigenvectors = find_eigenvalues_and_eigenvectors(A)\n",
        "print(\"Eigenvalues:\", eigenvalues)\n",
        "print(\"Eigenvectors:\")\n",
        "print(eigenvectors)\n"
      ],
      "metadata": {
        "colab": {
          "base_uri": "https://localhost:8080/"
        },
        "id": "Xmg3ALlD7Pbf",
        "outputId": "64ad6d56-94e8-40b7-b325-f4b84cae7774"
      },
      "execution_count": 24,
      "outputs": [
        {
          "output_type": "stream",
          "name": "stdout",
          "text": [
            "Eigenvalues: [4.73205081 1.26794919]\n",
            "Eigenvectors:\n",
            "[[ 0.9390708  -0.59069049]\n",
            " [ 0.34372377  0.80689822]]\n"
          ]
        }
      ]
    },
    {
      "cell_type": "markdown",
      "source": [
        "<hr>\n",
        "\n",
        "# 1.3 Linear Regression\n",
        "\n",
        "Linear regression is a statistical method used to model the linear relationship between a dependent variable and one or more independent variables. It is a supervised learning algorithm that is commonly used for prediction problems.\n",
        "\n",
        "QR Decomposition -- useful procedure to solve the linear least squares problem."
      ],
      "metadata": {
        "id": "4rFkxmsikfVA"
      }
    },
    {
      "cell_type": "code",
      "source": [
        "import numpy as np\n",
        "\n",
        "def qr_decomposition(A):\n",
        "    Q, R = np.linalg.qr(A)\n",
        "    return Q, R\n",
        "\n",
        "# Example usage\n",
        "A = np.array([[1, 2], [3, 4]])\n",
        "Q, R = qr_decomposition(A)\n",
        "print(\"Q:\", Q)\n",
        "print(\"R:\", R)\n"
      ],
      "metadata": {
        "colab": {
          "base_uri": "https://localhost:8080/"
        },
        "id": "gtXFu1gV88L9",
        "outputId": "82225312-733d-4da3-b640-5ccde5cb608b"
      },
      "execution_count": 29,
      "outputs": [
        {
          "output_type": "stream",
          "name": "stdout",
          "text": [
            "Q: [[-0.31622777 -0.9486833 ]\n",
            " [-0.9486833   0.31622777]]\n",
            "R: [[-3.16227766 -4.42718872]\n",
            " [ 0.         -0.63245553]]\n"
          ]
        }
      ]
    }
  ]
}